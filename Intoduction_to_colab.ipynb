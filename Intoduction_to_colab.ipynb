{
  "nbformat": 4,
  "nbformat_minor": 0,
  "metadata": {
    "colab": {
      "name": "Intoduction_to_colab.ipynb",
      "version": "0.3.2",
      "provenance": [],
      "include_colab_link": true
    },
    "kernelspec": {
      "name": "python3",
      "display_name": "Python 3"
    },
    "accelerator": "TPU"
  },
  "cells": [
    {
      "cell_type": "markdown",
      "metadata": {
        "id": "view-in-github",
        "colab_type": "text"
      },
      "source": [
        "<a href=\"https://colab.research.google.com/github/deepakmca17du/Deep-Learning/blob/master/Intoduction_to_colab.ipynb\" target=\"_parent\"><img src=\"https://colab.research.google.com/assets/colab-badge.svg\" alt=\"Open In Colab\"/></a>"
      ]
    },
    {
      "metadata": {
        "id": "A2rw-W0mNMw9",
        "colab_type": "code",
        "colab": {}
      },
      "cell_type": "code",
      "source": [
        "import tensorflow"
      ],
      "execution_count": 0,
      "outputs": []
    },
    {
      "metadata": {
        "id": "1z___ojBPx4r",
        "colab_type": "text"
      },
      "cell_type": "markdown",
      "source": [
        "**Steps to Mount Google Drive**"
      ]
    },
    {
      "metadata": {
        "id": "t17GTgCCPxcY",
        "colab_type": "code",
        "colab": {
          "base_uri": "https://localhost:8080/",
          "height": 124
        },
        "outputId": "8a28a5df-c945-4d38-f45d-085fc6ab445d"
      },
      "cell_type": "code",
      "source": [
        "from google.colab import drive\n",
        "drive.mount('/content/drive/')"
      ],
      "execution_count": 3,
      "outputs": [
        {
          "output_type": "stream",
          "text": [
            "Go to this URL in a browser: https://accounts.google.com/o/oauth2/auth?client_id=947318989803-6bn6qk8qdgf4n4g3pfee6491hc0brc4i.apps.googleusercontent.com&redirect_uri=urn%3Aietf%3Awg%3Aoauth%3A2.0%3Aoob&scope=email%20https%3A%2F%2Fwww.googleapis.com%2Fauth%2Fdocs.test%20https%3A%2F%2Fwww.googleapis.com%2Fauth%2Fdrive%20https%3A%2F%2Fwww.googleapis.com%2Fauth%2Fdrive.photos.readonly%20https%3A%2F%2Fwww.googleapis.com%2Fauth%2Fpeopleapi.readonly&response_type=code\n",
            "\n",
            "Enter your authorization code:\n",
            "··········\n",
            "Mounted at /content/drive/\n"
          ],
          "name": "stdout"
        }
      ]
    },
    {
      "metadata": {
        "id": "wAfMKhf7Q0Ym",
        "colab_type": "text"
      },
      "cell_type": "markdown",
      "source": [
        "**Verify if the contents are Mounted on the drive**"
      ]
    },
    {
      "metadata": {
        "id": "bSRbcYUNPP0F",
        "colab_type": "code",
        "colab": {
          "base_uri": "https://localhost:8080/",
          "height": 260
        },
        "outputId": "6e725814-0bb7-4841-c257-b6f306e35666"
      },
      "cell_type": "code",
      "source": [
        "!ls \"/content/drive/My Drive\""
      ],
      "execution_count": 5,
      "outputs": [
        {
          "output_type": "stream",
          "text": [
            "'algorithm notes.pdf'\t\t     matric.asm\n",
            "'automata notes.pdf'\t\t    'MCA 101 Lab Assignments.gsheet'\n",
            "'Basic R-Commands.pdf'\t\t     Mini-DBMS.pdf\n",
            "'Colab Notebooks'\t\t    'os notes.pdf'\n",
            " Combine_GradeCard.aspx-1.pdf\t     pics\n",
            " DeepakYadav_InternshalaResume.pdf   Practicals\n",
            " Deepak_Yadav.pdf\t\t     RDBMStoMongoDBMigration.pdf\n",
            " des\t\t\t\t    'RHA Courses Ver 1.0.pdf'\n",
            "'DM Assignment 3'\t\t     setApdf.pdf\n",
            "'Er and eer questions.pdf'\t     setBpdf.pdf\n",
            " flask-image-search\t\t    'TOC book.pdf'\n",
            "'Internships + Resources.gdoc'\t    'TOC solutions.pdf'\n",
            " machine_learning_for_humans.pdf     TwentyOne.R\n",
            " marksheet.pdf\n"
          ],
          "name": "stdout"
        }
      ]
    },
    {
      "metadata": {
        "id": "Bc05K-IWPKGn",
        "colab_type": "code",
        "colab": {
          "base_uri": "https://localhost:8080/",
          "height": 34
        },
        "outputId": "467ae9ac-b2f4-4d11-aa99-c52e4895e8b8"
      },
      "cell_type": "code",
      "source": [
        "!ls ."
      ],
      "execution_count": 6,
      "outputs": [
        {
          "output_type": "stream",
          "text": [
            "drive  sample_data\n"
          ],
          "name": "stdout"
        }
      ]
    },
    {
      "metadata": {
        "id": "v-8pTn-ZRc_Q",
        "colab_type": "code",
        "colab": {}
      },
      "cell_type": "code",
      "source": [
        "import os\n"
      ],
      "execution_count": 0,
      "outputs": []
    },
    {
      "metadata": {
        "id": "R3B5mEGxRcY8",
        "colab_type": "code",
        "colab": {
          "base_uri": "https://localhost:8080/",
          "height": 167
        },
        "outputId": "d1cb43c4-1bee-4ac0-d128-6a13c0be14e9"
      },
      "cell_type": "code",
      "source": [
        "os.chdir(\"/drive/My Drive/Workshop\")"
      ],
      "execution_count": 4,
      "outputs": [
        {
          "output_type": "error",
          "ename": "FileNotFoundError",
          "evalue": "ignored",
          "traceback": [
            "\u001b[0;31m---------------------------------------------------------------------------\u001b[0m",
            "\u001b[0;31mFileNotFoundError\u001b[0m                         Traceback (most recent call last)",
            "\u001b[0;32m<ipython-input-4-162dc8530d41>\u001b[0m in \u001b[0;36m<module>\u001b[0;34m()\u001b[0m\n\u001b[0;32m----> 1\u001b[0;31m \u001b[0mos\u001b[0m\u001b[0;34m.\u001b[0m\u001b[0mchdir\u001b[0m\u001b[0;34m(\u001b[0m\u001b[0;34m\"/drive/My Drive/Workshop\"\u001b[0m\u001b[0;34m)\u001b[0m\u001b[0;34m\u001b[0m\u001b[0;34m\u001b[0m\u001b[0m\n\u001b[0m",
            "\u001b[0;31mFileNotFoundError\u001b[0m: [Errno 2] No such file or directory: '/drive/My Drive/Workshop'"
          ]
        }
      ]
    }
  ]
}